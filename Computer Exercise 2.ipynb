{
 "cells": [
  {
   "cell_type": "code",
   "execution_count": 20,
   "metadata": {
    "collapsed": true
   },
   "outputs": [],
   "source": [
    "import pandas as pd\n",
    "import numpy as np\n",
    "import seaborn as sns\n",
    "import matplotlib.pyplot as plt\n",
    "import scipy.stats as stats\n",
    "%matplotlib inline\n",
    "np.random.seed(777)"
   ]
  },
  {
   "cell_type": "code",
   "execution_count": 21,
   "metadata": {
    "collapsed": true
   },
   "outputs": [],
   "source": [
    "df = pd.read_csv('income_exp.csv', low_memory=False)"
   ]
  },
  {
   "cell_type": "code",
   "execution_count": 22,
   "metadata": {},
   "outputs": [
    {
     "data": {
      "text/plain": [
       "41544"
      ]
     },
     "execution_count": 22,
     "metadata": {},
     "output_type": "execute_result"
    }
   ],
   "source": [
    "len(df)"
   ]
  },
  {
   "cell_type": "code",
   "execution_count": 23,
   "metadata": {
    "collapsed": true
   },
   "outputs": [
    {
     "data": {
      "text/html": [
       "<div>\n",
       "<style>\n",
       "    .dataframe thead tr:only-child th {\n",
       "        text-align: right;\n",
       "    }\n",
       "\n",
       "    .dataframe thead th {\n",
       "        text-align: left;\n",
       "    }\n",
       "\n",
       "    .dataframe tbody tr th {\n",
       "        vertical-align: top;\n",
       "    }\n",
       "</style>\n",
       "<table border=\"1\" class=\"dataframe\">\n",
       "  <thead>\n",
       "    <tr style=\"text-align: right;\">\n",
       "      <th></th>\n",
       "      <th>Total Household Income</th>\n",
       "      <th>Region</th>\n",
       "      <th>Total Food Expenditure</th>\n",
       "      <th>Main Source of Income</th>\n",
       "      <th>Agricultural Household indicator</th>\n",
       "      <th>Bread and Cereals Expenditure</th>\n",
       "      <th>Total Rice Expenditure</th>\n",
       "      <th>Meat Expenditure</th>\n",
       "      <th>Total Fish and  marine products Expenditure</th>\n",
       "      <th>Fruit Expenditure</th>\n",
       "      <th>...</th>\n",
       "      <th>Number of Refrigerator/Freezer</th>\n",
       "      <th>Number of Washing Machine</th>\n",
       "      <th>Number of Airconditioner</th>\n",
       "      <th>Number of Car, Jeep, Van</th>\n",
       "      <th>Number of Landline/wireless telephones</th>\n",
       "      <th>Number of Cellular phone</th>\n",
       "      <th>Number of Personal Computer</th>\n",
       "      <th>Number of Stove with Oven/Gas Range</th>\n",
       "      <th>Number of Motorized Banca</th>\n",
       "      <th>Number of Motorcycle/Tricycle</th>\n",
       "    </tr>\n",
       "  </thead>\n",
       "  <tbody>\n",
       "    <tr>\n",
       "      <th>0</th>\n",
       "      <td>480332</td>\n",
       "      <td>CAR</td>\n",
       "      <td>117848</td>\n",
       "      <td>Wage/Salaries</td>\n",
       "      <td>0</td>\n",
       "      <td>42140</td>\n",
       "      <td>38300</td>\n",
       "      <td>24676</td>\n",
       "      <td>16806</td>\n",
       "      <td>3325</td>\n",
       "      <td>...</td>\n",
       "      <td>1</td>\n",
       "      <td>1</td>\n",
       "      <td>0</td>\n",
       "      <td>0</td>\n",
       "      <td>0</td>\n",
       "      <td>2</td>\n",
       "      <td>1</td>\n",
       "      <td>0</td>\n",
       "      <td>0</td>\n",
       "      <td>1</td>\n",
       "    </tr>\n",
       "    <tr>\n",
       "      <th>1</th>\n",
       "      <td>198235</td>\n",
       "      <td>CAR</td>\n",
       "      <td>67766</td>\n",
       "      <td>Wage/Salaries</td>\n",
       "      <td>0</td>\n",
       "      <td>17329</td>\n",
       "      <td>13008</td>\n",
       "      <td>17434</td>\n",
       "      <td>11073</td>\n",
       "      <td>2035</td>\n",
       "      <td>...</td>\n",
       "      <td>0</td>\n",
       "      <td>1</td>\n",
       "      <td>0</td>\n",
       "      <td>0</td>\n",
       "      <td>0</td>\n",
       "      <td>3</td>\n",
       "      <td>1</td>\n",
       "      <td>0</td>\n",
       "      <td>0</td>\n",
       "      <td>2</td>\n",
       "    </tr>\n",
       "    <tr>\n",
       "      <th>2</th>\n",
       "      <td>82785</td>\n",
       "      <td>CAR</td>\n",
       "      <td>61609</td>\n",
       "      <td>Wage/Salaries</td>\n",
       "      <td>1</td>\n",
       "      <td>34182</td>\n",
       "      <td>32001</td>\n",
       "      <td>7783</td>\n",
       "      <td>2590</td>\n",
       "      <td>1730</td>\n",
       "      <td>...</td>\n",
       "      <td>0</td>\n",
       "      <td>0</td>\n",
       "      <td>0</td>\n",
       "      <td>0</td>\n",
       "      <td>0</td>\n",
       "      <td>0</td>\n",
       "      <td>0</td>\n",
       "      <td>0</td>\n",
       "      <td>0</td>\n",
       "      <td>0</td>\n",
       "    </tr>\n",
       "    <tr>\n",
       "      <th>3</th>\n",
       "      <td>107589</td>\n",
       "      <td>CAR</td>\n",
       "      <td>78189</td>\n",
       "      <td>Wage/Salaries</td>\n",
       "      <td>0</td>\n",
       "      <td>34030</td>\n",
       "      <td>28659</td>\n",
       "      <td>10914</td>\n",
       "      <td>10812</td>\n",
       "      <td>690</td>\n",
       "      <td>...</td>\n",
       "      <td>0</td>\n",
       "      <td>0</td>\n",
       "      <td>0</td>\n",
       "      <td>0</td>\n",
       "      <td>0</td>\n",
       "      <td>1</td>\n",
       "      <td>0</td>\n",
       "      <td>0</td>\n",
       "      <td>0</td>\n",
       "      <td>0</td>\n",
       "    </tr>\n",
       "    <tr>\n",
       "      <th>4</th>\n",
       "      <td>189322</td>\n",
       "      <td>CAR</td>\n",
       "      <td>94625</td>\n",
       "      <td>Wage/Salaries</td>\n",
       "      <td>0</td>\n",
       "      <td>34820</td>\n",
       "      <td>30167</td>\n",
       "      <td>18391</td>\n",
       "      <td>11309</td>\n",
       "      <td>1395</td>\n",
       "      <td>...</td>\n",
       "      <td>1</td>\n",
       "      <td>0</td>\n",
       "      <td>0</td>\n",
       "      <td>0</td>\n",
       "      <td>0</td>\n",
       "      <td>3</td>\n",
       "      <td>0</td>\n",
       "      <td>0</td>\n",
       "      <td>0</td>\n",
       "      <td>1</td>\n",
       "    </tr>\n",
       "  </tbody>\n",
       "</table>\n",
       "<p>5 rows × 60 columns</p>\n",
       "</div>"
      ],
      "text/plain": [
       "   Total Household Income Region  Total Food Expenditure  \\\n",
       "0                  480332    CAR                  117848   \n",
       "1                  198235    CAR                   67766   \n",
       "2                   82785    CAR                   61609   \n",
       "3                  107589    CAR                   78189   \n",
       "4                  189322    CAR                   94625   \n",
       "\n",
       "  Main Source of Income  Agricultural Household indicator  \\\n",
       "0         Wage/Salaries                                 0   \n",
       "1         Wage/Salaries                                 0   \n",
       "2         Wage/Salaries                                 1   \n",
       "3         Wage/Salaries                                 0   \n",
       "4         Wage/Salaries                                 0   \n",
       "\n",
       "   Bread and Cereals Expenditure  Total Rice Expenditure  Meat Expenditure  \\\n",
       "0                          42140                   38300             24676   \n",
       "1                          17329                   13008             17434   \n",
       "2                          34182                   32001              7783   \n",
       "3                          34030                   28659             10914   \n",
       "4                          34820                   30167             18391   \n",
       "\n",
       "   Total Fish and  marine products Expenditure  Fruit Expenditure  \\\n",
       "0                                        16806               3325   \n",
       "1                                        11073               2035   \n",
       "2                                         2590               1730   \n",
       "3                                        10812                690   \n",
       "4                                        11309               1395   \n",
       "\n",
       "               ...                Number of Refrigerator/Freezer  \\\n",
       "0              ...                                             1   \n",
       "1              ...                                             0   \n",
       "2              ...                                             0   \n",
       "3              ...                                             0   \n",
       "4              ...                                             1   \n",
       "\n",
       "   Number of Washing Machine  Number of Airconditioner  \\\n",
       "0                          1                         0   \n",
       "1                          1                         0   \n",
       "2                          0                         0   \n",
       "3                          0                         0   \n",
       "4                          0                         0   \n",
       "\n",
       "   Number of Car, Jeep, Van  Number of Landline/wireless telephones  \\\n",
       "0                         0                                       0   \n",
       "1                         0                                       0   \n",
       "2                         0                                       0   \n",
       "3                         0                                       0   \n",
       "4                         0                                       0   \n",
       "\n",
       "   Number of Cellular phone  Number of Personal Computer  \\\n",
       "0                         2                            1   \n",
       "1                         3                            1   \n",
       "2                         0                            0   \n",
       "3                         1                            0   \n",
       "4                         3                            0   \n",
       "\n",
       "   Number of Stove with Oven/Gas Range  Number of Motorized Banca  \\\n",
       "0                                    0                          0   \n",
       "1                                    0                          0   \n",
       "2                                    0                          0   \n",
       "3                                    0                          0   \n",
       "4                                    0                          0   \n",
       "\n",
       "   Number of Motorcycle/Tricycle  \n",
       "0                              1  \n",
       "1                              2  \n",
       "2                              0  \n",
       "3                              0  \n",
       "4                              1  \n",
       "\n",
       "[5 rows x 60 columns]"
      ]
     },
     "execution_count": 23,
     "metadata": {},
     "output_type": "execute_result"
    }
   ],
   "source": [
    "df.head()"
   ]
  },
  {
   "cell_type": "markdown",
   "metadata": {},
   "source": [
    "## Task 1"
   ]
  },
  {
   "cell_type": "code",
   "execution_count": 24,
   "metadata": {
    "collapsed": true
   },
   "outputs": [
    {
     "data": {
      "text/plain": [
       "<matplotlib.axes._subplots.AxesSubplot at 0x1cef032ae10>"
      ]
     },
     "execution_count": 24,
     "metadata": {},
     "output_type": "execute_result"
    },
    {
     "data": {
      "image/png": "[encoded data removed]",
      "text/plain": [
       "<matplotlib.figure.Figure at 0x1ceef145860>"
      ]
     },
     "metadata": {},
     "output_type": "display_data"
    }
   ],
   "source": [
    "df.iloc[:,0].plot(kind='hist')"
   ]
  },
  {
   "cell_type": "markdown",
   "metadata": {},
   "source": [
    "The histogram is clearly skewed heavily to the right. We decided to perform a log transformation to 'normalize' the data. However, one could also remove some large values that skew the distribution. Although these would have to be investigated in order to determine whether they can be removed. "
   ]
  },
  {
   "cell_type": "code",
   "execution_count": 25,
   "metadata": {
    "collapsed": true
   },
   "outputs": [
    {
     "data": {
      "text/plain": [
       "<matplotlib.axes._subplots.AxesSubplot at 0x1cef03a9278>"
      ]
     },
     "execution_count": 25,
     "metadata": {},
     "output_type": "execute_result"
    },
    {
     "data": {
      "image/png": "[encoded data removed]",
      "text/plain": [
       "<matplotlib.figure.Figure at 0x1cef033e358>"
      ]
     },
     "metadata": {},
     "output_type": "display_data"
    }
   ],
   "source": [
    "np.log(df.iloc[:,0]).plot(kind='hist')"
   ]
  },
  {
   "cell_type": "markdown",
   "metadata": {},
   "source": [
    "The original distribution was skewed to the right. After the log transformation, the histogram appears approximately normal."
   ]
  },
  {
   "cell_type": "markdown",
   "metadata": {},
   "source": [
    "QQ Plot"
   ]
  },
  {
   "cell_type": "code",
   "execution_count": 26,
   "metadata": {
    "collapsed": true
   },
   "outputs": [
    {
     "data": {
      "text/plain": [
       "((array([-4.14916498, -3.9414286 , -3.82809473, ...,  3.82809473,\n",
       "          3.9414286 ,  4.14916498]),\n",
       "  array([  9.33122969,   9.39166143,   9.39590666, ...,  16.11337583,\n",
       "          16.26990345,  16.28496409])),\n",
       " (0.76758876714648783, 12.088120644653451, 0.99541312773633772))"
      ]
     },
     "execution_count": 26,
     "metadata": {},
     "output_type": "execute_result"
    },
    {
     "data": {
      "image/png": "[encoded data removed]",
      "text/plain": [
       "<matplotlib.figure.Figure at 0x1ceef905cc0>"
      ]
     },
     "metadata": {},
     "output_type": "display_data"
    }
   ],
   "source": [
    "stats.probplot(x=np.log(df['Total Household Income']), plot=plt, dist='norm')"
   ]
  },
  {
   "cell_type": "markdown",
   "metadata": {},
   "source": [
    "The QQ plot above validates the belief that this is the histogram of a normal distribution, as the QQ plot is approximately\n",
    "linear (apart from some large positive values). The fit could be improved perhaps by looking a heavy-tail distribution such as the t-distribution, however this would need to be separately parameterised for a given number of degrees of freedom."
   ]
  },
  {
   "cell_type": "markdown",
   "metadata": {},
   "source": [
    "## Task 2"
   ]
  },
  {
   "cell_type": "code",
   "execution_count": 27,
   "metadata": {
    "collapsed": true
   },
   "outputs": [],
   "source": [
    "def estimate_occupation_probability(occupation_data, occupation, sample_size, smoothed=False):\n",
    "    sample = np.random.choice(occupation_data, size=sample_size, replace=False)\n",
    "    counts = 0\n",
    "    for i in range(len(sample)):\n",
    "        if sample[i] == occupation:\n",
    "            counts += 1\n",
    "    if smoothed:\n",
    "        return (counts + 1) / (len(sample) + len(set(occupation_data)))\n",
    "    else:\n",
    "        return counts / len(sample)"
   ]
  },
  {
   "cell_type": "code",
   "execution_count": 28,
   "metadata": {
    "collapsed": true
   },
   "outputs": [
    {
     "data": {
      "text/plain": [
       "<matplotlib.axes._subplots.AxesSubplot at 0x1ceef76a1d0>"
      ]
     },
     "execution_count": 28,
     "metadata": {},
     "output_type": "execute_result"
    },
    {
     "data": {
      "image/png": "[encoded data removed]",
      "text/plain": [
       "<matplotlib.figure.Figure at 0x1ceef8045f8>"
      ]
     },
     "metadata": {},
     "output_type": "display_data"
    }
   ],
   "source": [
    "df['Household Head Occupation'].value_counts().head(5).plot(kind='bar')"
   ]
  },
  {
   "cell_type": "code",
   "execution_count": 29,
   "metadata": {},
   "outputs": [
    {
     "data": {
      "text/plain": [
       "0.083718467167340646"
      ]
     },
     "execution_count": 29,
     "metadata": {},
     "output_type": "execute_result"
    }
   ],
   "source": [
    "df['Household Head Occupation'].value_counts()[0]/len(df)"
   ]
  },
  {
   "cell_type": "code",
   "execution_count": 30,
   "metadata": {
    "collapsed": true
   },
   "outputs": [],
   "source": [
    "occupations = list(set(df['Household Head Occupation']))"
   ]
  },
  {
   "cell_type": "code",
   "execution_count": 13,
   "metadata": {
    "collapsed": true
   },
   "outputs": [
    {
     "data": {
      "text/plain": [
       "[nan,\n",
       " 'Other orchard farmers',\n",
       " 'Bet bookmakers and croupiers',\n",
       " 'Directors and chief executives of corporations',\n",
       " 'Pharmacists',\n",
       " 'Hunting and trapping laborers',\n",
       " 'Physiotherapists',\n",
       " 'Transport conductors',\n",
       " 'Sweepers and related laborers',\n",
       " 'Advertising and public relations managers',\n",
       " 'Safety, health and quality inspectors (vehicles, processes and products)',\n",
       " 'Postal service supervisors',\n",
       " 'Building frame and related trades workers n. e. c.',\n",
       " 'School principals',\n",
       " 'Production and operations managers in restaurant and hotels',\n",
       " 'Fashion and other models',\n",
       " 'Textile, leather and related patternmakers and cutters',\n",
       " 'Other personal services workers, n. e. c.',\n",
       " 'Lawyers',\n",
       " 'Child care workers',\n",
       " 'Professional midwives',\n",
       " 'Building construction laborers',\n",
       " 'Religious professionals',\n",
       " 'Cooks',\n",
       " 'Authors, journalists and other writers',\n",
       " 'Medical technologists',\n",
       " 'Forest tree planters',\n",
       " 'Supply and distribution managers',\n",
       " 'Street ambulant vendors',\n",
       " 'Hand or pedal vehicle drivers',\n",
       " 'Other machine operators and assemblers',\n",
       " 'Bakers, pastry cooks and confectionery makers',\n",
       " 'Aircraft engine mechanics and fitters',\n",
       " 'Other poultry farmers',\n",
       " 'Estate agents',\n",
       " 'Jewelry and precious metal workers',\n",
       " 'Other plant growers',\n",
       " 'Other government associate professionals',\n",
       " 'Textile and leather products machine operators n. e. c.',\n",
       " 'Statistical and finance clerks',\n",
       " 'Petroleum and natural gas refining plant operators',\n",
       " 'Companions and valets',\n",
       " 'Automated assembly-line operators',\n",
       " 'Root crops farmers',\n",
       " 'Science and mathematics teaching professionals',\n",
       " 'Workers reporting occupations unidentifiable or inadequately defined',\n",
       " 'Mining and quarrying laborers',\n",
       " 'Pre-elementary education teaching professionals',\n",
       " 'Shoe cleaning and other street services elementary occupations',\n",
       " 'General secondary education teaching professionals',\n",
       " 'Finance and administration managers',\n",
       " 'Fishery laborers and helpers',\n",
       " 'Other sales supervisors',\n",
       " 'Heavy truck and lorry drivers',\n",
       " 'Secretaries',\n",
       " 'Hairdressers, barbers, beauticians and related workers',\n",
       " 'Woodworking machine setters and setter-operators',\n",
       " 'Traditional medicine practitioners',\n",
       " 'Statistical, mathematical and related associate professionals',\n",
       " 'Other supervisors, n. e. c.',\n",
       " 'Production and operations managers in business services',\n",
       " 'Nursing associate professionals',\n",
       " 'Computer equipment operators',\n",
       " 'Cotton and fiber crops farmers',\n",
       " 'Glass, ceramics and related plant operators n. e. c.',\n",
       " 'Production and operations managers in wholesale and retail trade',\n",
       " 'Metal molders and coremakers',\n",
       " 'Customs and immigration inspectors',\n",
       " 'Minor forest products gatherers',\n",
       " 'Production and operations managers in agriculture, hunting, forestry and fishery',\n",
       " 'Forestry laborers',\n",
       " 'Marine craft mechanics',\n",
       " 'Transport clerks',\n",
       " 'Mineral ore and stone-processing plant operators',\n",
       " 'Rice farmers',\n",
       " 'Miners and quarry workers',\n",
       " 'Cement and other mineral products machine operators',\n",
       " 'Wood treaters',\n",
       " 'Choreographers and dancers',\n",
       " 'Construction and maintenance laborers: roads, dams and similar constructions',\n",
       " 'Papermaking plant operators',\n",
       " 'Electronics and communications engineers',\n",
       " 'Plumbers, pipe fitters and other related workers',\n",
       " 'Tailors, dressmakers and hatters',\n",
       " 'Wood products machine operators',\n",
       " 'General managers/managing proprietors in manufacturing',\n",
       " 'Other teaching professionals',\n",
       " 'Telecommunication equipment installers and repairers',\n",
       " 'Other engineers and related professionals',\n",
       " 'Social work professionals',\n",
       " 'Shotfirers and blasters',\n",
       " 'Insulation workers',\n",
       " 'Earth-moving and related plant operators',\n",
       " 'Nonformal education teaching professionals other than technical and vocational trainors/instructors',\n",
       " 'Travel guides',\n",
       " 'Sewers, Embroiderers and related workers',\n",
       " 'Motorcycle drivers',\n",
       " 'Cattle and dairy farmers',\n",
       " 'Photographic products machine operators',\n",
       " 'Tree nut farmers',\n",
       " 'Sculptors, painters and related artists',\n",
       " 'Chemical processing plant operators n. e. c.',\n",
       " 'Computer assistants',\n",
       " 'Sales supervisors in retail trade',\n",
       " 'Industrial engineers',\n",
       " 'Ornamental plant growers',\n",
       " 'Electronics and communications engineering technicians',\n",
       " 'Business machines mechanics and repairers',\n",
       " 'Stenographers and typists',\n",
       " 'Crane, hoist and related plant operators',\n",
       " 'Sales and marketing managers',\n",
       " 'Other physical science and engineering technicians',\n",
       " 'Food preservers',\n",
       " 'Chemical products machine operators n. e. c.',\n",
       " 'Garbage collectors',\n",
       " 'Metal finishing, plating and coating machine operators',\n",
       " 'Government social benefits officials',\n",
       " 'Civil engineers',\n",
       " 'Tobacco preparers and tobacco products makers',\n",
       " 'Metal-wheel grinders, polishers and tool sharpeners',\n",
       " 'Production clerks',\n",
       " 'Education methods specialists',\n",
       " 'Production supervisors and general foremen',\n",
       " 'Government administrators (including career executive service officers)',\n",
       " 'Decorators and commercial designers',\n",
       " 'Air traffic safety technicians',\n",
       " 'General managers/managing proprietors of restaurants and hotels',\n",
       " 'Pressman letterpresses and related workers',\n",
       " 'Builders (traditional materials)',\n",
       " 'Fiber preparers',\n",
       " 'Building and related electricians',\n",
       " 'Stocks clerks',\n",
       " 'Carpenters and joiners',\n",
       " 'Production and operations managers in construction',\n",
       " 'Travel consultants and organizers',\n",
       " 'Brewers and wine and other beverage machine operators',\n",
       " 'Accounting and bookkeeping clerks',\n",
       " 'Rubber products machine operators',\n",
       " 'Compositors, typesetters and related workers',\n",
       " 'Other health associate professionals (except nursing)',\n",
       " 'Officers, n. e. c.',\n",
       " 'Other business services and trade brokers',\n",
       " 'Professional nurses',\n",
       " 'Building and fire inspectors',\n",
       " 'General managers/managing proprietors in agriculture, hunting, forestry and fishing',\n",
       " 'Inland and coastal waters fishermen',\n",
       " 'Electronic equipment assemblers',\n",
       " 'Bleaching, dyeing and cleaning machine operators',\n",
       " 'Combat soldiers',\n",
       " 'Metal drawers and extruders',\n",
       " 'Butchers, fishmongers and related food preparers',\n",
       " 'Radio, television and other announcers',\n",
       " 'Shoemaking and related machine operators',\n",
       " 'Service and related workers',\n",
       " 'Electrical Engineers',\n",
       " 'Musical instrument makers and tuners',\n",
       " 'Industrial robot operators',\n",
       " 'Transport and communications service supervisors n. e. c.',\n",
       " 'Fish-farm cultivators (excluding prawns)',\n",
       " 'Baked goods and cereal and chocolate products machine operators',\n",
       " 'Traditional chiefs and heads of villages',\n",
       " 'Veterinarians',\n",
       " 'Machine tool operators',\n",
       " 'Teaching associate professionals',\n",
       " 'Machine-tool setters and setter operators',\n",
       " 'Other finance and sales associate professionals',\n",
       " 'Tanners',\n",
       " 'Data entry operators',\n",
       " 'Nutritionists-dietitians',\n",
       " 'Agronomists and related scientists',\n",
       " 'Blacksmiths, hammersmiths, and forging-press workers',\n",
       " 'Other office clerks',\n",
       " 'Medical equipment operators',\n",
       " 'General managers/managing proprietors n. e. c.',\n",
       " 'Mining-plant operators',\n",
       " 'Basketry weavers, brush makers and related workers',\n",
       " 'Fruit, vegetable and nut processing machine operators',\n",
       " 'Senior officials of humanitarian and other special-interest organizations',\n",
       " 'Farm technicians',\n",
       " 'Athletes and related workers',\n",
       " 'Wood and related products assemblers',\n",
       " 'Electrical equipment assemblers',\n",
       " 'Photographers and image and sound recording equipment operators',\n",
       " 'Technical and vocational instructors/trainors',\n",
       " 'Civil engineering technicians',\n",
       " 'Hand launderers and pressers',\n",
       " 'Sugarcane farmers',\n",
       " 'Air transport service supervisors',\n",
       " 'Receptionists and information clerks',\n",
       " 'Seaweeds cultivators',\n",
       " 'Draftsmen',\n",
       " 'Pawnbrokers and money lenders',\n",
       " \"Ship's deck crews and related workers\",\n",
       " 'Enlisted personnel n. e. c.',\n",
       " 'Broadcasting and telecommunications equipment operators',\n",
       " 'Fruit tree farmers',\n",
       " 'Street, nightclub and related musicians, singers and dancers',\n",
       " 'Production and operations managers in manufacturing',\n",
       " 'Firefighters',\n",
       " 'Cabinet/furniture makers and related workers',\n",
       " 'Freight handlers',\n",
       " 'Deep-sea fishermen',\n",
       " 'Meat and fish processing machine operators',\n",
       " 'Potters and related clay and abrasive formers',\n",
       " 'Dental assistants',\n",
       " 'Mining and metallurgical engineering technicians',\n",
       " 'Riggers and cable splicers',\n",
       " 'Chicken farmers',\n",
       " 'Medical assistants',\n",
       " 'Masons and related concrete finishers',\n",
       " 'Vehicle, window and related cleaners',\n",
       " 'Legal and related business associate professionals',\n",
       " 'Cashiers and ticket clerks',\n",
       " 'Metal melters, caster and rolling mill operators',\n",
       " 'Justices',\n",
       " 'General managers/managing proprietors in personal care, cleaning and relative services',\n",
       " 'Shoemakers and related workers',\n",
       " 'General managers/managing proprietors in wholesale and retail trade',\n",
       " 'Economists',\n",
       " 'Institution-based personal care workers',\n",
       " 'Plastic products machine operators',\n",
       " 'Coding, proof-reading and related clerks',\n",
       " 'Market and sidewalk stall vendors',\n",
       " 'Dairy products machine operators',\n",
       " 'Accountants and auditors',\n",
       " 'Concessionaires and loggers',\n",
       " 'Other health professionals (except nursing)',\n",
       " 'Glass and ceramics kiln and related machine operators',\n",
       " 'Other aqua products cultivators',\n",
       " 'Government tax and excise officials',\n",
       " 'Farmhands and laborers',\n",
       " 'Personal care and related workers, n. e. c.',\n",
       " 'Lifting truck operators',\n",
       " 'Police officers',\n",
       " 'Metal, rubber and plastic products assemblers',\n",
       " 'Life science technicians',\n",
       " 'Other specialized managers',\n",
       " 'Roofers',\n",
       " 'Sewing machine operators',\n",
       " 'Vegetable farmers',\n",
       " 'Charcoal makers and related workers',\n",
       " 'Welders and flamecutters',\n",
       " 'Maritime transport service supervisors',\n",
       " 'Chemical engineers',\n",
       " 'Paper pulp plant operators',\n",
       " 'Architects',\n",
       " 'Handicraft workers in wood and related materials',\n",
       " 'Systems analysts and designers',\n",
       " 'General managers/managing proprietors in transportation, storage and communications',\n",
       " 'Fishermen n. e. c.',\n",
       " 'Door-to-door and telephone salespersons',\n",
       " 'Prison guards',\n",
       " 'Incinerator, water treatment and related plant operators',\n",
       " 'Dentists',\n",
       " 'Production and operations managers in personal care, cleaning and relative services',\n",
       " 'Coconut farmers',\n",
       " 'Mail carriers and sorting clerks',\n",
       " 'Painters and related workers',\n",
       " 'Labor contractors and employment agents',\n",
       " 'Bookkeepers',\n",
       " 'Fiber preparing, spinning and winding machine operators',\n",
       " 'Motor vehicle mechanics and related trades workers',\n",
       " 'Pharmaceutical and toiletry products machine operators',\n",
       " 'Medical doctors',\n",
       " 'Professional, technical and related officers',\n",
       " 'Tellers and other counter clerks',\n",
       " 'Faith healers',\n",
       " 'Undertakers and embalmers',\n",
       " 'Foresters and related scientists',\n",
       " 'Locomotive engine drivers',\n",
       " 'Chemists',\n",
       " 'Sales supervisors in wholesale trade',\n",
       " 'Personnel and industrial relations managers',\n",
       " 'Grain and spice milling machine operators',\n",
       " 'Ship and aircraft controllers and technicians',\n",
       " 'School supervisors and principals',\n",
       " 'Mechanical engineering technicians',\n",
       " 'Precision instrument makers and repairers',\n",
       " 'Other creative or performing artists',\n",
       " 'Domestic helpers and cleaners',\n",
       " 'Electronics mechanics and servicers',\n",
       " 'Bookbinders and related workers',\n",
       " 'Aircraft pilots, navigators and flight engineers',\n",
       " 'Other animal raisers',\n",
       " 'Food and beverage tasters and graders',\n",
       " 'Motorized farm and forestry plant operators',\n",
       " 'Doorkeepers, watchpersons and related workers',\n",
       " 'Weavers, knitters and related workers',\n",
       " 'Town planners and related professionals',\n",
       " 'Technical and commercial sales representatives',\n",
       " 'Telephone switchboard operators',\n",
       " 'Silk-screen, block and textile printers',\n",
       " 'Stall and market salespersons',\n",
       " 'Electrical mechanics and fitters',\n",
       " 'Social work associate professionals',\n",
       " 'Word processor and related operators',\n",
       " \"Ships' deck officers and pilots\",\n",
       " 'Commanding officers',\n",
       " 'Power production plant operators',\n",
       " 'Trade brokers',\n",
       " 'Assembling laborers',\n",
       " 'Police inspectors and detectives',\n",
       " 'Hog raising farmers',\n",
       " 'Drivers of animal-drawn vehicles and machinery',\n",
       " 'Shop salespersons and demonstrators',\n",
       " 'Debt collectors and related workers',\n",
       " 'Veterinary assistants',\n",
       " 'Librarians, archivists and curators',\n",
       " 'Stone splitters, cutters and carvers',\n",
       " 'Housekeepers and related workers',\n",
       " 'Tool-makers and related workers',\n",
       " 'Field legumes farmers',\n",
       " 'Composers, musicians and singers',\n",
       " 'Insurance representatives',\n",
       " 'Midwifery associate professionals',\n",
       " 'Messengers, package and luggage porters and deliverers',\n",
       " 'Electronics fitters',\n",
       " 'Glass makers, cutters, grinders and finishers',\n",
       " 'Personnel and human resource development professionals',\n",
       " 'Bus drivers',\n",
       " 'General managers/managing proprietors of business services',\n",
       " 'Coffee and cacao farmers',\n",
       " 'Varnishers and related painters',\n",
       " 'Electrical engineering technicians',\n",
       " 'Structural-metal preparers, erectors and related workers',\n",
       " 'Well drillers and borers and related workers',\n",
       " 'Photographic and related workers',\n",
       " 'Technician, skilled, semi-skilled workers',\n",
       " 'Hand packers and other manufacturing laborers',\n",
       " 'Library and filing clerks',\n",
       " 'Buyers',\n",
       " 'Dairy products makers',\n",
       " 'Research and development managers',\n",
       " 'Home-based personal care workers',\n",
       " 'Other administrative associate professionals',\n",
       " 'Optometrists and opticians',\n",
       " 'Non-ordained religious associate professionals',\n",
       " 'Helpers and cleaners in offices, hotels and other establishments',\n",
       " 'Mechanical machinery assemblers',\n",
       " 'Lineman, line installers and cable splicers',\n",
       " 'Wood processing plant operators',\n",
       " 'Agricultural or industrial machinery mechanics and fitters',\n",
       " 'Science and mathematics elementary education teaching professionals',\n",
       " 'Duck raisers',\n",
       " 'Waiters, waitresses and bartenders',\n",
       " 'Mechanical engineers',\n",
       " 'Government licensing officials',\n",
       " 'Floor layers and tile setters',\n",
       " 'Building caretakers',\n",
       " 'Other field crop farmers',\n",
       " 'Legislative officials',\n",
       " 'Sheet-metal workers',\n",
       " 'Sugar production machine operators',\n",
       " 'Other life science technicians',\n",
       " 'Upholsterers and related workers',\n",
       " 'Other computer professionals',\n",
       " 'Production and operations managers in transport, storage and communications',\n",
       " 'Appraisers and valuers',\n",
       " 'Car, taxi and van drivers',\n",
       " 'Other business professionals',\n",
       " 'Corn farmers',\n",
       " 'Other livestock farmers',\n",
       " 'Vocational education teaching professionals',\n",
       " 'Rattan, bamboo and other wicker furniture makers',\n",
       " 'Computer engineers and related professionals',\n",
       " 'Administrative secretaries and related associate professionals',\n",
       " 'Geodetic engineers and related professionals',\n",
       " 'Protective services workers n. e. c.',\n",
       " 'Weaving and knitting machine operators',\n",
       " 'Computer programmers',\n",
       " 'Statisticians',\n",
       " 'Paperboard, textile and related products assemblers',\n",
       " 'General elementary education teaching professionals',\n",
       " 'College, university and higher education teaching professionals',\n",
       " 'Staff officers',\n",
       " 'Hunters and trappers',\n",
       " 'Other social science professionals',\n",
       " 'Pharmaceutical assistants',\n",
       " 'General managers/managing proprietors in construction']"
      ]
     },
     "execution_count": 13,
     "metadata": {},
     "output_type": "execute_result"
    }
   ],
   "source": [
    "occupations"
   ]
  },
  {
   "cell_type": "code",
   "execution_count": 31,
   "metadata": {},
   "outputs": [
    {
     "data": {
      "text/plain": [
       "0.012526096033402923"
      ]
     },
     "execution_count": 31,
     "metadata": {},
     "output_type": "execute_result"
    }
   ],
   "source": [
    "estimate_occupation_probability(df.iloc[:,30],'Farmhands and laborers', 100, smoothed=True)"
   ]
  },
  {
   "cell_type": "code",
   "execution_count": 46,
   "metadata": {
    "collapsed": true
   },
   "outputs": [],
   "source": [
    "def func(sample_size, occupation='Farmhands and laborers', plot=True, n=1000):\n",
    "    estimates = [estimate_occupation_probability(df.iloc[:,30], occupation, \n",
    "                                                 sample_size, smoothed=True) for _ in range(n)]\n",
    "    \n",
    "    print('We are looking at '+str(sample_size) + ' samples')\n",
    "    print(\"2.5th percentile \" + str(np.percentile(estimates, 2.5)))\n",
    "    print(\"97.5th percentile \" + str(np.percentile(estimates, 97.5)))\n",
    "    plt.figure()\n",
    "    plt.axvline(x=np.percentile(estimates, 2.5), color='red')\n",
    "    plt.axvline(x=np.percentile(estimates, 97.5), color='red')\n",
    "    sns.distplot(pd.Series(estimates))\n"
   ]
  },
  {
   "cell_type": "code",
   "execution_count": 47,
   "metadata": {
    "collapsed": true
   },
   "outputs": [],
   "source": [
    "sample_sizes = [100,200,500,1000]"
   ]
  },
  {
   "cell_type": "code",
   "execution_count": 48,
   "metadata": {
    "collapsed": true
   },
   "outputs": [
    {
     "name": "stdout",
     "output_type": "stream",
     "text": [
      "We are looking at 100 samples\n",
      "2.5th percentile 0.0104384133612\n",
      "97.5th percentile 0.0313152400835\n",
      "We are looking at 200 samples\n",
      "2.5th percentile 0.0172711571675\n",
      "97.5th percentile 0.0449050086356\n",
      "We are looking at 500 samples\n",
      "2.5th percentile 0.0352673492605\n",
      "97.5th percentile 0.0637087599545\n",
      "We are looking at 1000 samples\n",
      "2.5th percentile 0.0493110949964\n",
      "97.5th percentile 0.0739847715736\n"
     ]
    },
    {
     "data": {
      "image/png": "[encoded data removed]",
      "text/plain": [
       "<matplotlib.figure.Figure at 0x1cef02615c0>"
      ]
     },
     "metadata": {},
     "output_type": "display_data"
    },
    {
     "data": {
      "image/png": "[encoded data removed]",
      "text/plain": [
       "<matplotlib.figure.Figure at 0x1ceef889ac8>"
      ]
     },
     "metadata": {},
     "output_type": "display_data"
    },
    {
     "data": {
      "image/png": "[encoded data removed]",
      "text/plain": [
       "<matplotlib.figure.Figure at 0x1ceef865c50>"
      ]
     },
     "metadata": {},
     "output_type": "display_data"
    },
    {
     "data": {
      "image/png": "[encoded data removed]",
      "text/plain": [
       "<matplotlib.figure.Figure at 0x1cef0195c88>"
      ]
     },
     "metadata": {},
     "output_type": "display_data"
    }
   ],
   "source": [
    "results = [func(i) for i in sample_sizes]"
   ]
  },
  {
   "cell_type": "markdown",
   "metadata": {},
   "source": [
    "So the plots above suggest that the distributions for this occupation is approximately normal. As the sample size increases, the distribution becomes smoother and better approximates a normal distribution with a mean equal to the population proportion for that occupation. "
   ]
  },
  {
   "cell_type": "code",
   "execution_count": 45,
   "metadata": {
    "collapsed": true
   },
   "outputs": [
    {
     "name": "stdout",
     "output_type": "stream",
     "text": [
      "We are looking at 100 samples\n",
      "2.5th percentile 0.00208768267223\n",
      "97.5th percentile 0.00417536534447\n",
      "We are looking at 200 samples\n",
      "2.5th percentile 0.00172711571675\n",
      "97.5th percentile 0.00345423143351\n",
      "We are looking at 500 samples\n",
      "2.5th percentile 0.00113765642776\n",
      "97.5th percentile 0.00341296928328\n",
      "We are looking at 1000 samples\n",
      "2.5th percentile 0.000725163161711\n",
      "97.5th percentile 0.00290065264685\n"
     ]
    },
    {
     "data": {
      "image/png": "[encoded data removed]",
      "text/plain": [
       "<matplotlib.figure.Figure at 0x1ceef7c7588>"
      ]
     },
     "metadata": {},
     "output_type": "display_data"
    },
    {
     "data": {
      "image/png": "[encoded data removed]",
      "text/plain": [
       "<matplotlib.figure.Figure at 0x1ceef56b0f0>"
      ]
     },
     "metadata": {},
     "output_type": "display_data"
    },
    {
     "data": {
      "image/png": "[encoded data removed]",
      "text/plain": [
       "<matplotlib.figure.Figure at 0x1ceef852be0>"
      ]
     },
     "metadata": {},
     "output_type": "display_data"
    },
    {
     "data": {
      "image/png": "[encoded data removed]",
      "text/plain": [
       "<matplotlib.figure.Figure at 0x1ceef757208>"
      ]
     },
     "metadata": {},
     "output_type": "display_data"
    }
   ],
   "source": [
    "plots = [func(i, 'Transport conductors') for i in sample_sizes]"
   ]
  },
  {
   "cell_type": "markdown",
   "metadata": {
    "collapsed": true
   },
   "source": [
    "Since the occupation does not appear as frequently as the other occupation, the histograms are much less normal. This is observable when the frequencies are below a certain threshold, since they have a more multimodal appearance due to the extremely low frequencies."
   ]
  },
  {
   "cell_type": "code",
   "execution_count": null,
   "metadata": {
    "collapsed": true
   },
   "outputs": [],
   "source": []
  }
 ],
 "metadata": {
  "kernelspec": {
   "display_name": "Python 3",
   "language": "python",
   "name": "python3"
  },
  "language_info": {
   "codemirror_mode": {
    "name": "ipython",
    "version": 3
   },
   "file_extension": ".py",
   "mimetype": "text/x-python",
   "name": "python",
   "nbconvert_exporter": "python",
   "pygments_lexer": "ipython3",
   "version": "3.5.3"
  }
 },
 "nbformat": 4,
 "nbformat_minor": 2
}
